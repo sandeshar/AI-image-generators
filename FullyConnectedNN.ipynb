{
  "nbformat": 4,
  "nbformat_minor": 0,
  "metadata": {
    "colab": {
      "name": "Untitled1.ipynb",
      "provenance": [],
      "toc_visible": true,
      "authorship_tag": "ABX9TyMXF37MZdUyb9oKdHcjaAGW",
      "include_colab_link": true
    },
    "kernelspec": {
      "name": "python3",
      "display_name": "Python 3"
    },
    "language_info": {
      "name": "python"
    }
  },
  "cells": [
    {
      "cell_type": "markdown",
      "metadata": {
        "id": "view-in-github",
        "colab_type": "text"
      },
      "source": [
        "<a href=\"https://colab.research.google.com/github/sandeshar/google/blob/main/FullyConnectedNN.ipynb\" target=\"_parent\"><img src=\"https://colab.research.google.com/assets/colab-badge.svg\" alt=\"Open In Colab\"/></a>"
      ]
    },
    {
      "cell_type": "code",
      "execution_count": null,
      "metadata": {
        "id": "pKWNN5stNzyy"
      },
      "outputs": [],
      "source": [
        "import matplotlib.pyplot as plt\n",
        "import torch\n",
        "import torch.nn as nn\n",
        "from torchvision import datasets,transforms\n",
        "import torch.nn.functional as F\n",
        "import torch.optim as optim"
      ]
    },
    {
      "cell_type": "code",
      "source": [
        "trainsets = datasets.MNIST('',train=True,download=True, transform=transforms.ToTensor())\n",
        "testsets = datasets.MNIST('',train=False,download=True, transform=transforms.ToTensor())\n",
        "\n",
        "train_loader = torch.utils.data.DataLoader(trainsets,batch_size=64, shuffle=True)\n",
        "test_loader = torch.utils.data.DataLoader(testsets,batch_size=64, shuffle=True)"
      ],
      "metadata": {
        "id": "VYuliYnRPGXa"
      },
      "execution_count": null,
      "outputs": []
    },
    {
      "cell_type": "code",
      "source": [
        "class NN(nn.Module):\n",
        "    def __init__(self):\n",
        "        super(NN,self).__init__()\n",
        "        self.f1=nn.Linear(784,450)\n",
        "        self.f2=nn.Linear(450,275)\n",
        "        self.f3=nn.Linear(275,60)\n",
        "        self.f4=nn.Linear(60,10)\n",
        "\n",
        "    def forward(self,x):\n",
        "        x=F.relu(self.f1(x))\n",
        "        x=F.relu(self.f2(x))\n",
        "        x=F.relu(self.f3(x))\n",
        "        x=F.softmax(self.f4(x))\n",
        "        return x"
      ],
      "metadata": {
        "id": "-Rur3CQDQrBK"
      },
      "execution_count": null,
      "outputs": []
    },
    {
      "cell_type": "code",
      "source": [
        "\n",
        "model = NN()\n",
        "loss_function = nn.CrossEntropyLoss()\n",
        "optimizer = torch.optim.Adam(model.parameters(), lr=0.001)\n",
        "\n",
        "for epoch in range(5):\n",
        "    for data in train_loader:\n",
        "        x,y = data\n",
        "        optimizer.zero_grad()\n",
        "        output = model(x.view(-1,28*28))\n",
        "        loss = loss_function(output, y)\n",
        "        loss.backward()\n",
        "        optimizer.step()\n",
        "        \n",
        "    \n",
        "    print(str(epoch)+\"---\"+str(loss)+\"---\")\n",
        "\n",
        "print(\"done\")"
      ],
      "metadata": {
        "colab": {
          "base_uri": "https://localhost:8080/"
        },
        "id": "g4QrR_fcT35C",
        "outputId": "36e25892-7b57-4fe7-81c5-699c938a5d63"
      },
      "execution_count": null,
      "outputs": [
        {
          "output_type": "stream",
          "name": "stderr",
          "text": [
            "/usr/local/lib/python3.7/dist-packages/ipykernel_launcher.py:13: UserWarning: Implicit dimension choice for softmax has been deprecated. Change the call to include dim=X as an argument.\n",
            "  del sys.path[0]\n"
          ]
        },
        {
          "output_type": "stream",
          "name": "stdout",
          "text": [
            "0---tensor(1.5868, grad_fn=<NllLossBackward0>)---\n",
            "1---tensor(1.4612, grad_fn=<NllLossBackward0>)---\n",
            "2---tensor(1.4612, grad_fn=<NllLossBackward0>)---\n",
            "3---tensor(1.4940, grad_fn=<NllLossBackward0>)---\n",
            "4---tensor(1.4725, grad_fn=<NllLossBackward0>)---\n",
            "done\n"
          ]
        }
      ]
    },
    {
      "cell_type": "code",
      "source": [
        "def testAccuracy():\n",
        "    \n",
        "    model.eval()\n",
        "    accuracy = 0.0\n",
        "    total = 0.0\n",
        "    \n",
        "    with torch.no_grad():\n",
        "        for data in test_loader:\n",
        "            images, labels = data\n",
        "            # run the model on the test set to predict labels\n",
        "            outputs = model(images.view(-1,28*28))\n",
        "            # the label with the highest energy will be our prediction\n",
        "            _, predicted = torch.max(outputs.data, 1)\n",
        "            total += labels.size(0)\n",
        "            accuracy += (predicted == labels).sum().item()\n",
        "    \n",
        "    # compute the accuracy over all test images\n",
        "    accuracy = (100 * accuracy / total)\n",
        "    return(accuracy)\n",
        "\n",
        "accuracy = testAccuracy()\n",
        "print(accuracy)"
      ],
      "metadata": {
        "id": "FAPJ-iZWkQU9",
        "colab": {
          "base_uri": "https://localhost:8080/"
        },
        "outputId": "a69e26df-6376-474a-bc8b-af3481eda8c8"
      },
      "execution_count": null,
      "outputs": [
        {
          "output_type": "stream",
          "name": "stderr",
          "text": [
            "/usr/local/lib/python3.7/dist-packages/ipykernel_launcher.py:13: UserWarning: Implicit dimension choice for softmax has been deprecated. Change the call to include dim=X as an argument.\n",
            "  del sys.path[0]\n"
          ]
        },
        {
          "output_type": "stream",
          "name": "stdout",
          "text": [
            "96.63\n"
          ]
        }
      ]
    }
  ]
}